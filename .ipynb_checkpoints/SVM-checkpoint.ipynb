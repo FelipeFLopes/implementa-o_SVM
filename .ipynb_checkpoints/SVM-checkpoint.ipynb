{
 "cells": [
  {
   "cell_type": "markdown",
   "metadata": {},
   "source": [
    "## Códigos preliminares"
   ]
  },
  {
   "cell_type": "code",
   "execution_count": 1,
   "metadata": {},
   "outputs": [],
   "source": [
    "import matplotlib.pyplot as plt\n",
    "from sklearn.metrics import confusion_matrix\n",
    "import itertools\n",
    "def plot_confusion_matrix(cm, classes,\n",
    "                          normalize=False,\n",
    "                          title='Confusion matrix',\n",
    "                          cmap=plt.cm.Blues):\n",
    "\n",
    "    plt.imshow(cm, interpolation='nearest', cmap=cmap)\n",
    "    plt.title(title)\n",
    "    plt.colorbar()\n",
    "    tick_marks = np.arange(len(classes))\n",
    "    plt.xticks(tick_marks, classes, rotation=45)\n",
    "    plt.yticks(tick_marks, classes)\n",
    "\n",
    "    fmt = '.2f' if normalize else 'd'\n",
    "    thresh = 3*cm.max()/4.\n",
    "    for i, j in itertools.product(range(cm.shape[0]), range(cm.shape[1])):\n",
    "        plt.text(j, i, format(cm[i, j], fmt),\n",
    "                 horizontalalignment=\"center\",\n",
    "                 color=\"white\" if cm[i, j] > thresh else \"black\")\n",
    "\n",
    "    plt.tight_layout()\n",
    "    plt.ylabel('True label')\n",
    "    plt.xlabel('Predicted label')"
   ]
  },
  {
   "cell_type": "markdown",
   "metadata": {},
   "source": [
    "### Implementação Própria da SVM com SGD\n",
    "\n",
    "Kernel http://scikit-learn.org/stable/modules/generated/sklearn.metrics.pairwise.rbf_kernel.html\n",
    "\n",
    "\n",
    "SGD http://scikit-learn.org/stable/modules/sgd.html\n",
    "\n",
    "Datasets http://scikit-learn.org/stable/datasets/index.html"
   ]
  },
  {
   "cell_type": "code",
   "execution_count": 2,
   "metadata": {},
   "outputs": [],
   "source": [
    "def svm_sgd_train(X, Y,eta,paran_lambda,epochs):\n",
    "    #numero de amostras no conjunto de treinamento\n",
    "    n_samples = len(X[:,0])\n",
    "    #numero de caracteristicas\n",
    "    n_features = len(X[0])\n",
    "    #adiciona o bias\n",
    "    bias = np.array([[-1]] * n_samples)\n",
    "    X=np.concatenate((X,bias),axis=1)\n",
    "\n",
    "    \n",
    "    w = np.zeros(n_features+1)\n",
    "    C = 1\n",
    "\n",
    "    MSE = []\n",
    "\n",
    "\n",
    "    for epoch in range(1,epochs):\n",
    "        error = 0\n",
    "        \n",
    "        for i, x in enumerate(X):\n",
    "            \n",
    "            #Produto escalar mais o bias\n",
    "            predicted  = np.sign(np.dot(x, w))\n",
    "            \n",
    "            if (Y[i]*predicted) < 1:\n",
    "                w = w - eta * ( ( paran_lambda * w ) - C*(x*Y[i]) )\n",
    "                error+= (Y[i]-predicted)\n",
    "                \n",
    "            else:\n",
    "                w = w - eta *(paran_lambda * w)\n",
    "                \n",
    "        MSE.append( (error*error)/n_samples )\n",
    "    \n",
    "    return w,MSE\n",
    "\n",
    "def svm_sgd_predict(X,w):\n",
    "    \n",
    "    #numero de amostras no conjunto de treinamento\n",
    "    n_samples = len(X[:,0])\n",
    "    \n",
    "    #adiciona o bias\n",
    "    bias = np.array([[-1]] * n_samples)\n",
    "    X=np.concatenate((X,bias),axis=1)\n",
    "    y = np.sign(np.dot(X,w))\n",
    "\n",
    "    return y"
   ]
  },
  {
   "cell_type": "markdown",
   "metadata": {},
   "source": [
    "# Analisando o problema da XOR"
   ]
  },
  {
   "cell_type": "markdown",
   "metadata": {},
   "source": [
    "### Preparação do set de treinamento"
   ]
  },
  {
   "cell_type": "code",
   "execution_count": 3,
   "metadata": {},
   "outputs": [],
   "source": [
    "import numpy as np\n",
    "from sklearn.cluster import KMeans\n",
    "from sklearn.model_selection import train_test_split\n",
    "from sklearn.metrics.pairwise import rbf_kernel\n",
    "\n",
    "\n",
    "x=np.array([[0,0],[0,1], [1,0], [1,1]])\n",
    "y = np.array([-1,1,1,-1])\n",
    "\n",
    "c=[[0,1], [1,0]]\n",
    "c = np.array(c)\n",
    "\n",
    "n_kernels = 2\n",
    "#Define a quantidade de kernels e quais os centros\n",
    "c = np.tile(c,(int(np.sqrt(n_kernels)),1))\n",
    "\n",
    "\n",
    "\n",
    "#Transforma y em uma matrix nx1\n",
    "y_save = np.transpose(np.array([y]))\n",
    "dados=np.concatenate((x,y_save),axis=1)\n",
    "\n",
    "\n",
    "#salva os dados em csv para serem executados no matlab\n",
    "np.savetxt(\"dados_treino_xor.csv\", dados, delimiter=',', header =\"A,B,C\", comments=\"\")\n",
    "np.savetxt(\"kernel_centers_xor.csv\", c, delimiter=',', header =\"A,B\", comments=\"\")\n",
    "\n",
    "\n",
    "\n",
    "#Calcula a matrix de kernls\n",
    "kernels = rbf_kernel(x,c, gamma=0.5)\n",
    "\n",
    "#Configura parametros da SVM\n",
    "eta = 0.4\n",
    "paran_lambda = 0.01\n",
    "epochs = 2000\n",
    "\n",
    "n_repet = 1\n"
   ]
  },
  {
   "cell_type": "markdown",
   "metadata": {},
   "source": [
    "## SVM com SGD feito a partir de bibliotecas padrão"
   ]
  },
  {
   "cell_type": "code",
   "execution_count": 4,
   "metadata": {},
   "outputs": [
    {
     "name": "stdout",
     "output_type": "stream",
     "text": [
      "O tempo médio de execução foi 1.0291495000001038e-06\n"
     ]
    },
    {
     "data": {
      "image/png": "[encoded data removed]",
      "text/plain": [
       "<matplotlib.figure.Figure at 0x7f52742bb518>"
      ]
     },
     "metadata": {},
     "output_type": "display_data"
    }
   ],
   "source": [
    "import random\n",
    "import time\n",
    "from sklearn.linear_model import SGDClassifier\n",
    "import matplotlib.pyplot as plt\n",
    "\n",
    "total = 0\n",
    "for i in range(n_repet):\n",
    "    \n",
    "    \n",
    "    start = time.process_time()\n",
    "    \n",
    "    \n",
    "    sgd = SGDClassifier(loss=\"hinge\", penalty=\"l1\", max_iter= epochs, learning_rate='constant', eta0=eta, alpha = paran_lambda) \n",
    "\n",
    "    sgd.fit(kernels,y)\n",
    "\n",
    "    finish = time.process_time()\n",
    "\n",
    "    total = total + (finish-start)/sgd.n_iter_\n",
    "\n",
    "print(\"O tempo médio de execução foi \" + str(total/n_repet))\n",
    "\n",
    "\n",
    "class_names = ['-1','1']\n",
    "\n",
    "# Compute confusion matrix for training\n",
    "\n",
    "plt.subplot(2, 2, 1)\n",
    "yy = sgd.predict(kernels)\n",
    "cnf_matrix = confusion_matrix(y, yy)\n",
    "np.set_printoptions(precision=2)\n",
    "plot_confusion_matrix(cnf_matrix, classes=class_names,title='Xor treino - padrão')\n",
    "plt.show()"
   ]
  },
  {
   "cell_type": "markdown",
   "metadata": {},
   "source": [
    "## SVM com SGD feito a partir de implementação própria"
   ]
  },
  {
   "cell_type": "code",
   "execution_count": 5,
   "metadata": {},
   "outputs": [
    {
     "name": "stdout",
     "output_type": "stream",
     "text": [
      "O tempo médio de execução foi 4.74324530000001e-05\n"
     ]
    },
    {
     "data": {
      "image/png": "[encoded data removed]",
      "text/plain": [
       "<matplotlib.figure.Figure at 0x7f52414ac198>"
      ]
     },
     "metadata": {},
     "output_type": "display_data"
    }
   ],
   "source": [
    "total = 0\n",
    "\n",
    "for i in range(n_repet):\n",
    "    \n",
    "    start = time.process_time()\n",
    "    \n",
    "    pesos,MSE = svm_sgd_train(kernels,y,eta,paran_lambda,epochs)\n",
    "\n",
    "    finish = time.process_time()\n",
    "\n",
    "    total = total + (finish-start)/epochs\n",
    "\n",
    "print(\"O tempo médio de execução foi \" + str(total/n_repet))\n",
    "\n",
    "\n",
    "class_names = ['-1','1']\n",
    "\n",
    "\n",
    "# Compute confusion matrix for training\n",
    "plt.subplot(2, 2, 1)\n",
    "yy = svm_sgd_predict(kernels,pesos)\n",
    "cnf_matrix = confusion_matrix(y, yy)\n",
    "np.set_printoptions(precision=2)\n",
    "plot_confusion_matrix(cnf_matrix, classes=class_names,title='Xor treino - propria')\n",
    "plt.show()"
   ]
  },
  {
   "cell_type": "markdown",
   "metadata": {},
   "source": [
    "# Analisando Problema Iris"
   ]
  },
  {
   "cell_type": "markdown",
   "metadata": {},
   "source": [
    "#### Dividir Sets de treinamento e testes"
   ]
  },
  {
   "cell_type": "code",
   "execution_count": 6,
   "metadata": {},
   "outputs": [],
   "source": [
    "from sklearn.model_selection import train_test_split\n",
    "from sklearn import datasets\n",
    "from sklearn.metrics.pairwise import rbf_kernel\n",
    "from sklearn.cluster import KMeans\n",
    "import numpy as np\n",
    "\n",
    "'''\n",
    "Setosa =0\n",
    "Versicolour = 1\n",
    "Virginica = 2\n",
    "'''\n",
    "\n",
    "# importa o conjunto de dados\n",
    "iris = datasets.load_iris()\n",
    "\n",
    "\n",
    "X = iris.data\n",
    "y = iris.target\n",
    "\n",
    "#Retira a classe Virginica do treinamento\n",
    "b = np.asarray(np.where(y!=2)).astype(int)[0,:]\n",
    "\n",
    "x = X[b]\n",
    "y = y[b]\n",
    "\n",
    "\n",
    "#Substitui a classe 0 por -1 (para melhorar a convergencia da SVM)\n",
    "b = np.asarray(np.where(y==0)).astype(int)[0,:]\n",
    "\n",
    "y[b] = -1\n",
    "#Separa os dados entre treinamento e teste\n",
    "x_train, x_test, y_train, y_test = train_test_split(x, y, test_size=0.3, random_state=42)\n",
    "\n",
    "\n",
    "n_centers = 2\n",
    "\n",
    "#centros dos kernels\n",
    "kmeans = KMeans(n_clusters=n_centers, random_state=0).fit(x_train)\n",
    "c = kmeans.cluster_centers_\n",
    "\n",
    "\n",
    "\n",
    "#Transforma y em uma matrix nx1\n",
    "y_save = np.transpose(np.array([y_train]))\n",
    "dados=np.concatenate((x_train,y_save),axis=1)\n",
    "\n",
    "\n",
    "#salva os dados em csv para serem executados no matlab\n",
    "np.savetxt(\"dados_treino_iris.csv\", dados, delimiter=',', header =\"A,B,C,D,E\", comments=\"\")\n",
    "np.savetxt(\"kernel_centers_iris.csv\", c, delimiter=',', header =\"A,B,C,D\", comments=\"\")\n",
    "\n",
    "\n",
    "\n",
    "\n",
    "\n",
    "#Calcula a matrix de kernels\n",
    "kernels = rbf_kernel(x_train,c, gamma=0.5)\n",
    "\n",
    "\n",
    "#Parametros da SVM\n",
    "eta = 0.04\n",
    "paran_lambda = 0.1\n",
    "epochs = 2000\n",
    "\n",
    "#Prepara o ambiente para treinamento\n",
    "n_repet = 1\n"
   ]
  },
  {
   "cell_type": "markdown",
   "metadata": {},
   "source": [
    "## SVM com SGD feito a partir de bibliotecas padrão"
   ]
  },
  {
   "cell_type": "code",
   "execution_count": 7,
   "metadata": {},
   "outputs": [
    {
     "name": "stdout",
     "output_type": "stream",
     "text": [
      "O tempo médio de execução foi 4.988978499999907e-06\n"
     ]
    },
    {
     "data": {
      "image/png": "[encoded data removed]",
      "text/plain": [
       "<matplotlib.figure.Figure at 0x7f52413d2eb8>"
      ]
     },
     "metadata": {},
     "output_type": "display_data"
    },
    {
     "data": {
      "image/png": "[encoded data removed]",
      "text/plain": [
       "<matplotlib.figure.Figure at 0x7f5241364cf8>"
      ]
     },
     "metadata": {},
     "output_type": "display_data"
    }
   ],
   "source": [
    "import random\n",
    "import time\n",
    "from sklearn.linear_model import SGDClassifier\n",
    "\n",
    "#Calcula a matrix de kernels\n",
    "kernels = rbf_kernel(x_train,c, gamma=0.5)\n",
    "\n",
    "\n",
    "\n",
    "total = 0\n",
    "\n",
    "for i in range(n_repet):\n",
    "    \n",
    "    start = time.process_time()\n",
    "    \n",
    "    \n",
    "    sgd =SGDClassifier(loss=\"hinge\", penalty=\"l1\", max_iter= epochs, learning_rate='constant', eta0=eta, alpha = paran_lambda)\n",
    "    \n",
    "    \n",
    "    sgd.fit(kernels,y_train)\n",
    "\n",
    "    finish = time.process_time()\n",
    "\n",
    "    total = total + (finish-start)/sgd.n_iter_\n",
    "\n",
    "print(\"O tempo médio de execução foi \" + str(total/n_repet))\n",
    "\n",
    "\n",
    "#Plota matriz de confusão\n",
    "class_names = ['Setosa','Versicolour']\n",
    "\n",
    "# Compute confusion matrix for training\n",
    "plt.subplot(2, 2, 1)\n",
    "yy = sgd.predict(kernels)\n",
    "cnf_matrix = confusion_matrix(y_train, yy)\n",
    "np.set_printoptions(precision=2)\n",
    "plot_confusion_matrix(cnf_matrix, classes=class_names,title='Iris treino - padrão')\n",
    "plt.show()\n",
    "\n",
    "# Compute confusion matrix for test\n",
    "\n",
    "#Calcula a matrix de kernls\n",
    "kernels = rbf_kernel(x_test,c, gamma=0.5)\n",
    "\n",
    "plt.subplot(2, 2, 2)\n",
    "yy = sgd.predict(kernels)\n",
    "cnf_matrix = confusion_matrix(y_test, yy)\n",
    "np.set_printoptions(precision=2)\n",
    "plot_confusion_matrix(cnf_matrix, classes=class_names,title='Iris teste - padrão')\n",
    "plt.show()\n"
   ]
  },
  {
   "cell_type": "markdown",
   "metadata": {},
   "source": [
    "## SVM com SGD feito a partir de implementação própria"
   ]
  },
  {
   "cell_type": "code",
   "execution_count": 8,
   "metadata": {},
   "outputs": [
    {
     "name": "stdout",
     "output_type": "stream",
     "text": [
      "O tempo total foi 0.0004994309\n"
     ]
    },
    {
     "data": {
      "image/png": "[encoded data removed]",
      "text/plain": [
       "<matplotlib.figure.Figure at 0x7f52413d2c50>"
      ]
     },
     "metadata": {},
     "output_type": "display_data"
    },
    {
     "data": {
      "image/png": "[encoded data removed]",
      "text/plain": [
       "<matplotlib.figure.Figure at 0x7f5240395ba8>"
      ]
     },
     "metadata": {},
     "output_type": "display_data"
    }
   ],
   "source": [
    "from sklearn.metrics.pairwise import rbf_kernel\n",
    "import numpy as np\n",
    "import time\n",
    "from sklearn.cluster import KMeans\n",
    "\n",
    "\n",
    "#Calcula a matrix de kernels\n",
    "kernels = rbf_kernel(x_train,c, gamma=2)\n",
    "\n",
    "\n",
    "total = 0\n",
    "\n",
    "for i in range(n_repet):\n",
    "\n",
    "    #executa a SVM\n",
    "    start = time.process_time()\n",
    "\n",
    "    pesos,MSE = svm_sgd_train(kernels,y_train,eta,paran_lambda,epochs)\n",
    "\n",
    "    finish = time.process_time()\n",
    "\n",
    "    total += (finish-start)/epochs\n",
    "    \n",
    "    \n",
    "print(\"O tempo total foi %5.10f\" % (total/n_repet))\n",
    "\n",
    "\n",
    "#Plota matriz de confusão\n",
    "class_names = ['Setosa','Versicolour']\n",
    "\n",
    "# Compute confusion matrix for training\n",
    "plt.subplot(2, 2, 2)\n",
    "yy = svm_sgd_predict(kernels,pesos)\n",
    "cnf_matrix = confusion_matrix(y_train, yy)\n",
    "np.set_printoptions(precision=2)\n",
    "plot_confusion_matrix(cnf_matrix, classes=class_names,title='Iris treino - propria')\n",
    "plt.show()\n",
    "\n",
    "\n",
    "#Calcula a matrix de kernls\n",
    "kernels = rbf_kernel(x_test,c, gamma=2)\n",
    "\n",
    "plt.subplot(2, 2, 2)\n",
    "yy = svm_sgd_predict(kernels,pesos)\n",
    "cnf_matrix = confusion_matrix(y_test, yy)\n",
    "np.set_printoptions(precision=2)\n",
    "plot_confusion_matrix(cnf_matrix, classes=class_names,title='Iris treino - propria')\n",
    "plt.show()"
   ]
  },
  {
   "cell_type": "code",
   "execution_count": null,
   "metadata": {},
   "outputs": [],
   "source": []
  }
 ],
 "metadata": {
  "kernelspec": {
   "display_name": "Python 3",
   "language": "python",
   "name": "python3"
  },
  "language_info": {
   "codemirror_mode": {
    "name": "ipython",
    "version": 3
   },
   "file_extension": ".py",
   "mimetype": "text/x-python",
   "name": "python",
   "nbconvert_exporter": "python",
   "pygments_lexer": "ipython3",
   "version": "3.6.4"
  }
 },
 "nbformat": 4,
 "nbformat_minor": 2
}
